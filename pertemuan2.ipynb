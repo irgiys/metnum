{
 "cells": [
  {
   "cell_type": "code",
   "execution_count": null,
   "metadata": {},
   "outputs": [],
   "source": []
  }
 ],
 "metadata": {
  "kernelspec": {
   "display_name": "Python 3.10.7 64-bit",
   "language": "python",
   "name": "python3"
  },
  "language_info": {
   "name": "python",
   "version": "3.10.7"
  },
  "orig_nbformat": 4,
  "vscode": {
   "interpreter": {
    "hash": "dda59ce1710a4d89c88dd8b7a9879d8b5caa21acbf2d0ad4ffd973f043ee75a7"
   }
  }
 },
 "nbformat": 4,
 "nbformat_minor": 2
}
